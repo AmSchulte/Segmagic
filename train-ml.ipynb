{
 "cells": [
  {
   "cell_type": "code",
   "execution_count": null,
   "metadata": {},
   "outputs": [],
   "source": [
    "# autoreload\n",
    "%load_ext autoreload\n",
    "%autoreload 2\n",
    "\n",
    "from settings import Settings\n",
    "from dataloader_ml import DataHandler\n",
    "import json\n",
    "import matplotlib.pyplot as plt\n",
    "\n",
    "# Load configuration using the Settings class\n",
    "settings = Settings(\n",
    "    default_config=\"default.toml\",\n",
    "    project_config=\"example.toml\"\n",
    ")\n",
    "\n",
    "print(f\"Project: {settings.get('general.name')}\")\n",
    "print(f\"Base path: {settings.get('data.base_path')}\")\n",
    "print(f\"Model folder: {settings.get('data.model_folder')}\")\n",
    "\n",
    "# Create necessary directories\n",
    "settings.create_directories()"
   ]
  },
  {
   "cell_type": "code",
   "execution_count": null,
   "metadata": {},
   "outputs": [],
   "source": [
    "data = DataHandler(settings)\n",
    "data.train_test_split(test_ratio=0.1, valid_ratio=0.2)\n",
    "distribution = data.run_data_loader()\n",
    "\n",
    "with open(settings.get('data.model_folder')+\"/distribution.json\", 'w') as f:    \n",
    "    json.dump(distribution, f, indent=4)"
   ]
  },
  {
   "cell_type": "markdown",
   "metadata": {},
   "source": [
    "### Loading and splitting data"
   ]
  },
  {
   "cell_type": "code",
   "execution_count": null,
   "metadata": {},
   "outputs": [],
   "source": [
    "plt.imshow(data.train_data[0].regions[0]['image'][0,:,:], cmap='gray')\n",
    "plt.imshow(data.train_data[0].regions[0]['mask'][0,:,:], cmap='Blues',alpha=0.25)\n",
    "plt.show()"
   ]
  },
  {
   "cell_type": "markdown",
   "metadata": {},
   "source": [
    "### Training model\n",
    "#### you will find the best model and its metrices in 'base_path'/model"
   ]
  },
  {
   "cell_type": "code",
   "execution_count": null,
   "metadata": {},
   "outputs": [],
   "source": [
    "image, mask, weights = data.show_example_batch()\n",
    "\n",
    "for index in range(0, image.shape[0]):\n",
    "    plt.figure(figsize=(14, 3))\n",
    "    plt.subplot(1, 4, 1)\n",
    "    plt.title(\"Image\")\n",
    "    plt.imshow(image[index, 0, :], cmap='gray', vmin=-2, vmax=2)\n",
    "    plt.subplot(1, 4, 2)\n",
    "    plt.title(\"Mask\")\n",
    "    plt.imshow(mask[index, 0, :], cmap='gray')\n",
    "    plt.subplot(1, 4, 3)\n",
    "    plt.title(\"weight\")\n",
    "    plt.imshow(image[index, 0, :], cmap='gray', vmin=-2, vmax=2)\n",
    "    plt.imshow(weights[index, 0, :], cmap='Reds', alpha=0.5)\n",
    "    plt.subplot(1, 4, 4)\n",
    "    plt.title(\"histogram\")\n",
    "    plt.hist(image[index, 0, :].flatten(), bins=100, range=(-2, 2))\n",
    "    plt.show()\n",
    "    plt.close()"
   ]
  },
  {
   "cell_type": "code",
   "execution_count": null,
   "metadata": {},
   "outputs": [],
   "source": [
    "from segmagic_ml import Segmagic\n",
    "\n",
    "seg = Segmagic(settings)\n",
    "seg.train_model(\n",
    "    data\n",
    ")"
   ]
  },
  {
   "cell_type": "code",
   "execution_count": null,
   "metadata": {},
   "outputs": [],
   "source": [
    "import matplotlib.pyplot as plt\n",
    "plt.plot(seg.model.tml.metrics['val_f1'].history['micro'])\n",
    "plt.plot(seg.model.tml.metrics['train_f1'].history['micro'])"
   ]
  },
  {
   "cell_type": "markdown",
   "metadata": {},
   "source": [
    "### Testing model\n",
    "#### Test results are stored under 'base_path'/Testing"
   ]
  },
  {
   "cell_type": "code",
   "execution_count": null,
   "metadata": {
    "scrolled": false
   },
   "outputs": [],
   "source": [
    "from segmagic_ml import Segmagic\n",
    "\n",
    "seg = Segmagic(settings)\n",
    "################## chose image to predict ##################\n",
    "seg.test_images(data)\n",
    "#seg.predict_image(image_to_predict, labels,show=True)"
   ]
  },
  {
   "cell_type": "code",
   "execution_count": null,
   "metadata": {},
   "outputs": [],
   "source": []
  }
 ],
 "metadata": {
  "kernelspec": {
   "display_name": "segmagic",
   "language": "python",
   "name": "python3"
  },
  "language_info": {
   "codemirror_mode": {
    "name": "ipython",
    "version": 3
   },
   "file_extension": ".py",
   "mimetype": "text/x-python",
   "name": "python",
   "nbconvert_exporter": "python",
   "pygments_lexer": "ipython3",
   "version": "3.12.11"
  }
 },
 "nbformat": 4,
 "nbformat_minor": 2
}
