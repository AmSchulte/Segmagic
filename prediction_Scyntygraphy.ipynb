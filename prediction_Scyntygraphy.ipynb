{
 "cells": [
  {
   "cell_type": "markdown",
   "metadata": {},
   "source": [
    "### Prediction on new data\n",
    "#### execute only this cell if you want to predict image segmentations with an already trained model\n",
    "#### base_path and labels need to be defined\n",
    "#### results are stored under 'folder'_pred"
   ]
  },
  {
   "cell_type": "code",
   "execution_count": null,
   "metadata": {},
   "outputs": [],
   "source": [
    "from segmagic_ml import Segmagic\n",
    "# in base_path, the model(s) to use should be in a folder called \"model\"\n",
    "# names of labels need to be defined, you can give it any name you want. Should be the same length as the number of labels in the model.\n",
    "base_path = \"Segmagic/models_Scintygraphy/foot\"\n",
    "seg = Segmagic(base_path)\n",
    "labels = ['foot']\n",
    "#chose image to predict\n",
    "folder = \"Data_to_predict/foot/images\"\n",
    "seg.predict_folder(folder,labels,show=True)"
   ]
  }
 ],
 "metadata": {
  "language_info": {
   "name": "python"
  }
 },
 "nbformat": 4,
 "nbformat_minor": 2
}
